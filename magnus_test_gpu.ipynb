{
  "nbformat": 4,
  "nbformat_minor": 0,
  "metadata": {
    "colab": {
      "name": "magnus_test_gpu.ipynb",
      "provenance": [],
      "toc_visible": true
    },
    "kernelspec": {
      "name": "python3",
      "display_name": "Python 3"
    },
    "accelerator": "GPU"
  },
  "cells": [
    {
      "cell_type": "code",
      "metadata": {
        "colab_type": "code",
        "id": "sXnDmXR7RDr2",
        "colab": {}
      },
      "source": [
        "%tensorflow_version 2.x"
      ],
      "execution_count": 0,
      "outputs": []
    },
    {
      "cell_type": "code",
      "metadata": {
        "id": "hQYBv19ucU-C",
        "colab_type": "code",
        "outputId": "bd969fb5-2897-4405-bff5-7f67a12c2fc1",
        "colab": {
          "base_uri": "https://localhost:8080/",
          "height": 36
        }
      },
      "source": [
        "!ls"
      ],
      "execution_count": 0,
      "outputs": [
        {
          "output_type": "stream",
          "text": [
            "drive  sample_data  seg_test.zip\n"
          ],
          "name": "stdout"
        }
      ]
    },
    {
      "cell_type": "code",
      "metadata": {
        "id": "z5FWI0KOdPt-",
        "colab_type": "code",
        "outputId": "f7db14ee-4291-4567-d3c6-1134b7b27974",
        "colab": {
          "base_uri": "https://localhost:8080/",
          "height": 134
        }
      },
      "source": [
        "from google.colab import drive\n",
        "drive.mount('/content/drive')"
      ],
      "execution_count": 0,
      "outputs": [
        {
          "output_type": "stream",
          "text": [
            "Go to this URL in a browser: https://accounts.google.com/o/oauth2/auth?client_id=947318989803-6bn6qk8qdgf4n4g3pfee6491hc0brc4i.apps.googleusercontent.com&redirect_uri=urn%3aietf%3awg%3aoauth%3a2.0%3aoob&response_type=code&scope=email%20https%3a%2f%2fwww.googleapis.com%2fauth%2fdocs.test%20https%3a%2f%2fwww.googleapis.com%2fauth%2fdrive%20https%3a%2f%2fwww.googleapis.com%2fauth%2fdrive.photos.readonly%20https%3a%2f%2fwww.googleapis.com%2fauth%2fpeopleapi.readonly\n",
            "\n",
            "Enter your authorization code:\n",
            "··········\n",
            "Mounted at /content/drive\n"
          ],
          "name": "stdout"
        }
      ]
    },
    {
      "cell_type": "code",
      "metadata": {
        "id": "MSLqkH8NeiQX",
        "colab_type": "code",
        "outputId": "fe8baddc-4d39-41c9-cd8b-6568c3a00c53",
        "colab": {
          "base_uri": "https://localhost:8080/",
          "height": 36
        }
      },
      "source": [
        "!ls"
      ],
      "execution_count": 0,
      "outputs": [
        {
          "output_type": "stream",
          "text": [
            "drive  sample_data  seg_test\n"
          ],
          "name": "stdout"
        }
      ]
    },
    {
      "cell_type": "code",
      "metadata": {
        "id": "YjFb8KdtNV-7",
        "colab_type": "code",
        "colab": {}
      },
      "source": [
        "!pip install tensorflowjs"
      ],
      "execution_count": 0,
      "outputs": []
    },
    {
      "cell_type": "code",
      "metadata": {
        "id": "3bhP0cl0kA7M",
        "colab_type": "code",
        "outputId": "e634c89a-41a9-47d3-f544-e128c7c787fc",
        "colab": {
          "base_uri": "https://localhost:8080/",
          "height": 34
        }
      },
      "source": [
        "import tensorflow.keras.layers as Layers\n",
        "import tensorflow.keras.activations as Actications\n",
        "import tensorflow.keras.models as Models\n",
        "import tensorflow.keras.optimizers as Optimizer\n",
        "import tensorflow.keras.metrics as Metrics\n",
        "import tensorflow.keras.utils as Utils\n",
        "import tensorflowjs as tfjs\n",
        "from keras.utils.vis_utils import model_to_dot\n",
        "import os\n",
        "import matplotlib.pyplot as plot\n",
        "import cv2\n",
        "import numpy as np\n",
        "from sklearn.utils import shuffle\n",
        "from sklearn.metrics import confusion_matrix as CM\n",
        "from random import randint\n",
        "from IPython.display import SVG\n",
        "import matplotlib.gridspec as gridspec"
      ],
      "execution_count": 0,
      "outputs": [
        {
          "output_type": "stream",
          "text": [
            "Using TensorFlow backend.\n"
          ],
          "name": "stderr"
        }
      ]
    },
    {
      "cell_type": "code",
      "metadata": {
        "id": "Jk-h6khcBW4j",
        "colab_type": "code",
        "colab": {}
      },
      "source": [
        ""
      ],
      "execution_count": 0,
      "outputs": []
    },
    {
      "cell_type": "code",
      "metadata": {
        "id": "r1_fwVQrkDwG",
        "colab_type": "code",
        "colab": {}
      },
      "source": [
        "\n",
        "seg_pred = os.listdir(\"/kaggle/input/intel-image-classification/seg_pred/seg_pred\")\n",
        "fig , ax = plt.subplots(5,10)\n",
        "plt.subplots_adjust(top = 0.7 , bottom = 0.3 , hspace = 0.7)\n",
        "fig.set_size_inches(25,25)\n",
        "random_values = []\n",
        "\n",
        "# Plotting\n",
        "for i in range(5):\n",
        "    for j in range(10):\n",
        "        l = random.randint(0, len(seg_pred))\n",
        "        img = cv2.imread(\"/kaggle/input/intel-image-classification/seg_pred/seg_pred/\"+seg_pred[l])\n",
        "        ax[i,j].imshow(img)\n",
        "        ax[i,j].set_title(seg_pred[l])\n",
        "        ax[i,j].set_aspect('equal')\n",
        "        random_values.append(seg_pred[l])\n",
        "    \n",
        "print(len(random_values))"
      ],
      "execution_count": 0,
      "outputs": []
    },
    {
      "cell_type": "code",
      "metadata": {
        "id": "BKMUar9MkJkX",
        "colab_type": "code",
        "colab": {}
      },
      "source": [
        ""
      ],
      "execution_count": 0,
      "outputs": []
    },
    {
      "cell_type": "code",
      "metadata": {
        "id": "_xwZDrW0kQHa",
        "colab_type": "code",
        "outputId": "bcb6c669-afa6-4c31-f89b-4b45271c5597",
        "colab": {
          "base_uri": "https://localhost:8080/",
          "height": 56
        }
      },
      "source": [
        ""
      ],
      "execution_count": 0,
      "outputs": [
        {
          "output_type": "stream",
          "text": [
            "Shape of Images: (3000, 150, 150, 3)\n",
            "Shape of Labels: (3000,)\n"
          ],
          "name": "stdout"
        }
      ]
    },
    {
      "cell_type": "code",
      "metadata": {
        "id": "rMARozSKkRPI",
        "colab_type": "code",
        "colab": {}
      },
      "source": [
        ""
      ],
      "execution_count": 0,
      "outputs": []
    },
    {
      "cell_type": "code",
      "metadata": {
        "id": "mGes8IaBkXZT",
        "colab_type": "code",
        "outputId": "0a658939-b477-4bda-9041-4f044fd61ae3",
        "colab": {
          "base_uri": "https://localhost:8080/",
          "height": 617
        }
      },
      "source": [
        ""
      ],
      "execution_count": 0,
      "outputs": [
        {
          "output_type": "stream",
          "text": [
            "Train on 2100 samples, validate on 900 samples\n",
            "Epoch 1/15\n",
            "2100/2100 [==============================] - 33s 16ms/sample - loss: 2.1462 - accuracy: 0.2048 - val_loss: 1.5801 - val_accuracy: 0.3667\n",
            "Epoch 2/15\n",
            "2100/2100 [==============================] - 19s 9ms/sample - loss: 1.5842 - accuracy: 0.3400 - val_loss: 1.4093 - val_accuracy: 0.4533\n",
            "Epoch 3/15\n",
            "2100/2100 [==============================] - 19s 9ms/sample - loss: 1.4076 - accuracy: 0.4176 - val_loss: 1.2683 - val_accuracy: 0.5156\n",
            "Epoch 4/15\n",
            "2100/2100 [==============================] - 20s 9ms/sample - loss: 1.3557 - accuracy: 0.4576 - val_loss: 1.2670 - val_accuracy: 0.4956\n",
            "Epoch 5/15\n",
            "2100/2100 [==============================] - 20s 9ms/sample - loss: 1.2828 - accuracy: 0.4776 - val_loss: 1.1100 - val_accuracy: 0.5367\n",
            "Epoch 6/15\n",
            "2100/2100 [==============================] - 20s 9ms/sample - loss: 1.1989 - accuracy: 0.5129 - val_loss: 1.0400 - val_accuracy: 0.6022\n",
            "Epoch 7/15\n",
            "2100/2100 [==============================] - 20s 10ms/sample - loss: 1.2105 - accuracy: 0.5181 - val_loss: 1.0908 - val_accuracy: 0.5722\n",
            "Epoch 8/15\n",
            "2100/2100 [==============================] - 20s 10ms/sample - loss: 1.1303 - accuracy: 0.5410 - val_loss: 1.0008 - val_accuracy: 0.6367\n",
            "Epoch 9/15\n",
            "2100/2100 [==============================] - 20s 10ms/sample - loss: 1.1330 - accuracy: 0.5633 - val_loss: 0.9448 - val_accuracy: 0.6533\n",
            "Epoch 10/15\n",
            "2100/2100 [==============================] - 20s 10ms/sample - loss: 1.0808 - accuracy: 0.5724 - val_loss: 0.9249 - val_accuracy: 0.6411\n",
            "Epoch 11/15\n",
            "2100/2100 [==============================] - 20s 10ms/sample - loss: 1.0063 - accuracy: 0.6129 - val_loss: 0.8610 - val_accuracy: 0.6789\n",
            "Epoch 12/15\n",
            "2100/2100 [==============================] - 20s 10ms/sample - loss: 1.0105 - accuracy: 0.6138 - val_loss: 0.8817 - val_accuracy: 0.6833\n",
            "Epoch 13/15\n",
            "2100/2100 [==============================] - 20s 10ms/sample - loss: 0.9387 - accuracy: 0.6371 - val_loss: 0.9747 - val_accuracy: 0.6033\n",
            "Epoch 14/15\n",
            "2100/2100 [==============================] - 20s 10ms/sample - loss: 0.9329 - accuracy: 0.6367 - val_loss: 0.8986 - val_accuracy: 0.6778\n",
            "Epoch 15/15\n",
            "2100/2100 [==============================] - 21s 10ms/sample - loss: 0.8762 - accuracy: 0.6767 - val_loss: 0.7967 - val_accuracy: 0.7111\n"
          ],
          "name": "stdout"
        }
      ]
    },
    {
      "cell_type": "code",
      "metadata": {
        "id": "jjNzStZQdsy_",
        "colab_type": "code",
        "outputId": "d61df88f-710f-4662-b54e-2aa8d05cb397",
        "colab": {
          "base_uri": "https://localhost:8080/",
          "height": 34
        }
      },
      "source": [
        "!ls"
      ],
      "execution_count": 0,
      "outputs": [
        {
          "output_type": "stream",
          "text": [
            "cnn3k.h5  sample_data\n"
          ],
          "name": "stdout"
        }
      ]
    },
    {
      "cell_type": "code",
      "metadata": {
        "id": "jqZvchaAeTHB",
        "colab_type": "code",
        "colab": {}
      },
      "source": [
        "!tensorflowjs_converter \\\n",
        "    --input_format=keras \\\n",
        "    cnn3k.h5 \\\n",
        "    my_tfjs_model"
      ],
      "execution_count": 0,
      "outputs": []
    },
    {
      "cell_type": "code",
      "metadata": {
        "id": "bzKALXwZN85B",
        "colab_type": "code",
        "colab": {}
      },
      "source": [
        ""
      ],
      "execution_count": 0,
      "outputs": []
    },
    {
      "cell_type": "code",
      "metadata": {
        "id": "VwXHnlVjnPPn",
        "colab_type": "code",
        "outputId": "ac063529-2603-4cb9-80da-603cd0c57705",
        "colab": {
          "base_uri": "https://localhost:8080/",
          "height": 36
        }
      },
      "source": [
        ""
      ],
      "execution_count": 0,
      "outputs": [
        {
          "output_type": "stream",
          "text": [
            "zz\n"
          ],
          "name": "stdout"
        }
      ]
    },
    {
      "cell_type": "code",
      "metadata": {
        "id": "16S2swtIN8FH",
        "colab_type": "code",
        "colab": {}
      },
      "source": [
        ""
      ],
      "execution_count": 0,
      "outputs": []
    }
  ]
}